{
 "cells": [
  {
   "cell_type": "code",
   "execution_count": 8,
   "metadata": {},
   "outputs": [],
   "source": [
    "import httplib2\n",
    "from googleapiclient.discovery import build\n",
    "from oauth2client.service_account import ServiceAccountCredentials\n",
    "from google.oauth2.credentials import Credentials\n",
    "from datetime import datetime\n",
    "import json"
   ]
  },
  {
   "cell_type": "code",
   "execution_count": 2,
   "metadata": {},
   "outputs": [],
   "source": [
    "\n",
    "CREDENTIALS_FILE = 'creds.json'\n",
    "\n",
    "credentials = ServiceAccountCredentials.from_json_keyfile_name(\n",
    "    CREDENTIALS_FILE,\n",
    "    ['https://www.googleapis.com/auth/spreadsheets',\n",
    "     'https://www.googleapis.com/auth/drive'])\n",
    "httpAuth = credentials.authorize(httplib2.Http())\n",
    "\n",
    "service = build('sheets', 'v4', http = httpAuth)\n",
    "service_drive = build('drive', 'v3', http = httpAuth)\n",
    "\n",
    "spreadsheet_id = '1ZJ6VzQOQJlZvVtJ2UNhb8Uj4El2TV8lG7wMfMwMiJaM'\n",
    "\n",
    "def get_table_modified_time():\n",
    "  response = service_drive.files().get(fileId=spreadsheet_id,fields=\"modifiedTime\").execute()\n",
    "  modified_time_str = response['modifiedTime']\n",
    "  date = datetime.fromisoformat(modified_time_str[:-1])\n",
    "  return date\n",
    "\n",
    "def get_content():\n",
    "  values = service.spreadsheets().values().get(\n",
    "    spreadsheetId=spreadsheet_id,\n",
    "    \n",
    "    range='A1:E100',\n",
    "    majorDimension='ROWS'\n",
    "  ).execute()\n",
    "  \n",
    "  keys = values['values'][0]\n",
    "  keys = [key.lower() for key in keys]\n",
    "  videos_row = values['values'][1:]\n",
    "  videos = []\n",
    "  \n",
    "  for row in videos_row:\n",
    "    video = {}\n",
    "    for index, value in enumerate(keys):\n",
    "      if len(row) > index:\n",
    "          video[value] = row[index]\n",
    "      else:\n",
    "          video[value] = ''\n",
    "        \n",
    "    if 'link' in video:\n",
    "      duration = get_video_length(video['link'])\n",
    "      video['duration'] = duration\n",
    "      \n",
    "    videos.append(video)\n",
    "  \n",
    "  data = []\n",
    "  topic_index_dict = {}\n",
    "  for video in videos:\n",
    "    topic = video['topic']\n",
    "    if topic in topic_index_dict:\n",
    "      index = topic_index_dict[topic]\n",
    "      data[index]['videos'].append(video)\n",
    "    else:\n",
    "      topic_index_dict[topic] = len(data)\n",
    "      data.append({\n",
    "        'topic': topic,\n",
    "        'videos': [\n",
    "          video\n",
    "        ]\n",
    "      })\n",
    "  return data"
   ]
  },
  {
   "cell_type": "code",
   "execution_count": 6,
   "metadata": {},
   "outputs": [
    {
     "name": "stdout",
     "output_type": "stream",
     "text": [
      "{'properties': {'sheetId': 0, 'title': 'УникальныеСообщения', 'index': 0, 'sheetType': 'GRID', 'gridProperties': {'rowCount': 1000, 'columnCount': 26}}}\n",
      "{'properties': {'sheetId': 1443323139, 'title': 'УпражненияЭмоции', 'index': 1, 'sheetType': 'GRID', 'gridProperties': {'rowCount': 1000, 'columnCount': 26}}}\n",
      "0\n"
     ]
    }
   ],
   "source": [
    "sheet_metadata = service.spreadsheets().get(spreadsheetId=spreadsheet_id).execute()\n",
    "\n",
    "properties = sheet_metadata.get('sheets')\n",
    "for item in properties:\n",
    "    print(item)\n",
    "    if item.get(\"properties\").get('title') == 'SHEET_TITILE':\n",
    "        sheet_id = (item.get(\"properties\").get('sheetId'))\n",
    "\n",
    "print (sheet_id)"
   ]
  },
  {
   "cell_type": "code",
   "execution_count": 11,
   "metadata": {},
   "outputs": [],
   "source": [
    "values = service.spreadsheets().values().get(\n",
    "    spreadsheetId=spreadsheet_id,\n",
    "    range='УникальныеСообщения!A1:B100',\n",
    "    majorDimension='ROWS'\n",
    ").execute()\n",
    "\n",
    "values = values['values']"
   ]
  },
  {
   "cell_type": "code",
   "execution_count": 12,
   "metadata": {},
   "outputs": [
    {
     "data": {
      "text/plain": [
       "{'startMessage': 'Привет👋, я Забот. Твой помощник в пространстве неопределенности и тревоги.\\n\\nЯ помогу тебе преодолеть эмоциональный шторм, успокоиться, снять стресс и позаботиться о себе и близких, чтобы ты мог жить полноценной жизнью и сохранять продуктивность даже в эти непростые времена.\\n\\nЭто анонимно.\\n\\n✅Для начала напиши start'}"
      ]
     },
     "execution_count": 12,
     "metadata": {},
     "output_type": "execute_result"
    }
   ],
   "source": [
    "uniqueMessages = {}\n",
    "for line in values:\n",
    "    uniqueMessages[line[0]] = line[1]\n",
    "uniqueMessages"
   ]
  },
  {
   "cell_type": "code",
   "execution_count": null,
   "metadata": {},
   "outputs": [],
   "source": [
    "from pathlib import Path"
   ]
  },
  {
   "cell_type": "code",
   "execution_count": null,
   "metadata": {},
   "outputs": [],
   "source": [
    "\n",
    "class PathConfig:\n",
    "    storageBaseDir = Path(\"./DataStorage\")\n",
    "    storageUsersDir = storageBaseDir / \"Users\"\n",
    "\n",
    "path = PathConfig()"
   ]
  },
  {
   "cell_type": "code",
   "execution_count": null,
   "metadata": {},
   "outputs": [],
   "source": [
    "\n",
    "if path.storageUsersDir.is_dir():\n",
    "    print(\"Is dir\")\n",
    "else:\n",
    "    print(\"Is not dir\")"
   ]
  },
  {
   "cell_type": "code",
   "execution_count": null,
   "metadata": {},
   "outputs": [],
   "source": [
    "kek = path.storageUsersDir / \"azazazadsdz\""
   ]
  },
  {
   "cell_type": "code",
   "execution_count": null,
   "metadata": {},
   "outputs": [],
   "source": [
    "kek.mkdir(parents=True, exist_ok=True)"
   ]
  },
  {
   "cell_type": "code",
   "execution_count": null,
   "metadata": {},
   "outputs": [],
   "source": [
    "import pytz\n",
    "from datetime import datetime\n",
    "# import datetime"
   ]
  },
  {
   "cell_type": "code",
   "execution_count": null,
   "metadata": {},
   "outputs": [],
   "source": [
    "tz = pytz.timezone('Europe/Berlin')\n",
    "now = datetime.now(tz)"
   ]
  },
  {
   "cell_type": "code",
   "execution_count": null,
   "metadata": {},
   "outputs": [],
   "source": [
    "def getTimestamp():\n",
    "    tz = pytz.timezone('Europe/Moscow')\n",
    "    now = datetime.now(tz)\n",
    "    return now.strftime(\"%d.%m.%Y, %H:%M:%S\")"
   ]
  },
  {
   "cell_type": "code",
   "execution_count": null,
   "metadata": {},
   "outputs": [],
   "source": [
    "getTimestamp()"
   ]
  },
  {
   "cell_type": "code",
   "execution_count": null,
   "metadata": {},
   "outputs": [],
   "source": [
    "datetime.now().isocalendar()[1]"
   ]
  },
  {
   "cell_type": "code",
   "execution_count": null,
   "metadata": {},
   "outputs": [],
   "source": [
    "datetime(2022, 1, 3).isocalendar()[1]"
   ]
  },
  {
   "cell_type": "code",
   "execution_count": null,
   "metadata": {},
   "outputs": [],
   "source": [
    "import xlsxwriter\n",
    "import json\n",
    "from pathlib import Path\n",
    "from datetime import date, timedelta\n"
   ]
  },
  {
   "cell_type": "code",
   "execution_count": null,
   "metadata": {},
   "outputs": [],
   "source": [
    "class PathConfig:\n",
    "    storageBaseDir = Path(\"./DataStorage\")\n",
    "    storageUsersDir = storageBaseDir / \"Users\"\n",
    "    storageBotContentDir = storageBaseDir / \"BotContent\"\n",
    "    storageBotContentPrivateConfig = storageBotContentDir / \"PrivateConfig.json\"\n",
    "\n",
    "path = PathConfig()"
   ]
  },
  {
   "cell_type": "code",
   "execution_count": null,
   "metadata": {},
   "outputs": [],
   "source": [
    "def getJsonData(filePath):\n",
    "    with filePath.open() as json_file:\n",
    "        data = json.load(json_file)\n",
    "    return data"
   ]
  },
  {
   "cell_type": "code",
   "execution_count": null,
   "metadata": {},
   "outputs": [],
   "source": [
    "\n",
    "def daterange(start_date, end_date):\n",
    "    for n in range(int((end_date - start_date).days + 1)):\n",
    "        yield start_date + timedelta(n)"
   ]
  },
  {
   "cell_type": "code",
   "execution_count": null,
   "metadata": {},
   "outputs": [],
   "source": [
    "dateConfig = getJsonData(path.storageBotContentPrivateConfig)[\"startDate\"]\n",
    "startDate = date(dateConfig[\"year\"], dateConfig[\"month\"], dateConfig[\"day\"])"
   ]
  },
  {
   "cell_type": "code",
   "execution_count": null,
   "metadata": {},
   "outputs": [],
   "source": [
    "# Create a workbook and add a worksheet.\n",
    "workbook = xlsxwriter.Workbook('TotalHistory.xlsx')\n",
    "worksheet = workbook.add_worksheet(\"Start\")\n",
    "eventName = \"Старт\"\n",
    "\n",
    "row = 0 \n",
    "col = 0\n",
    "\n",
    "worksheet.write(row, col, \"Дата / Пользователь\")\n",
    "row += 1\n",
    "\n",
    "dates = [strDate.strftime(\"%d.%m.%Y\") for strDate in daterange(startDate, date.today())]\n",
    "for single_date in dates:\n",
    "    worksheet.write(row, col, single_date)\n",
    "    row += 1\n",
    "\n",
    "col += 1\n",
    "\n",
    "for userFolder in path.storageUsersDir.iterdir():\n",
    "    row = 0\n",
    "    history = getJsonData(userFolder / \"history.json\")\n",
    "    worksheet.write(row, col, userFolder.name)\n",
    "    \n",
    "    row = 1\n",
    "    for single_date in dates:\n",
    "        dateEventsCount = len([event for event in history if event[\"timestamp\"][\"date\"] == single_date and event[\"event\"] == eventName])\n",
    "        worksheet.write(row, col, dateEventsCount)\n",
    "        row += 1\n",
    "\n",
    "    col += 1\n",
    "\n",
    "workbook.close()"
   ]
  },
  {
   "cell_type": "code",
   "execution_count": null,
   "metadata": {},
   "outputs": [],
   "source": [
    "path.storageUsersDir.absolute()"
   ]
  },
  {
   "cell_type": "code",
   "execution_count": null,
   "metadata": {},
   "outputs": [],
   "source": [
    "glob(\"DataStorage/Users//*\")"
   ]
  },
  {
   "cell_type": "code",
   "execution_count": 3,
   "metadata": {},
   "outputs": [],
   "source": [
    "import enum"
   ]
  },
  {
   "cell_type": "code",
   "execution_count": 4,
   "metadata": {},
   "outputs": [],
   "source": [
    "class HistoryEvent(enum.Enum):\n",
    "\n",
    "    start = \"Старт\"\n",
    "    sendMessage = \"Отправил сообщение\""
   ]
  },
  {
   "cell_type": "code",
   "execution_count": 10,
   "metadata": {},
   "outputs": [],
   "source": [
    "kek: HistoryEvent = None"
   ]
  },
  {
   "cell_type": "code",
   "execution_count": 14,
   "metadata": {},
   "outputs": [
    {
     "data": {
      "text/plain": [
       "False"
      ]
     },
     "execution_count": 14,
     "metadata": {},
     "output_type": "execute_result"
    }
   ],
   "source": [
    "kek is not None"
   ]
  },
  {
   "cell_type": "code",
   "execution_count": 12,
   "metadata": {},
   "outputs": [
    {
     "data": {
      "text/plain": [
       "NoneType"
      ]
     },
     "execution_count": 12,
     "metadata": {},
     "output_type": "execute_result"
    }
   ],
   "source": [
    "type(kek)"
   ]
  },
  {
   "cell_type": "code",
   "execution_count": 6,
   "metadata": {},
   "outputs": [
    {
     "name": "stdout",
     "output_type": "stream",
     "text": [
      "HistoryEvent.start\n",
      "HistoryEvent.sendMessage\n"
     ]
    }
   ],
   "source": [
    "for kek in HistoryEvent:\n",
    "    print(kek)"
   ]
  },
  {
   "cell_type": "code",
   "execution_count": 10,
   "metadata": {},
   "outputs": [
    {
     "data": {
      "text/plain": [
       "'{\"kek\": 34234}'"
      ]
     },
     "execution_count": 10,
     "metadata": {},
     "output_type": "execute_result"
    }
   ],
   "source": [
    "json.dumps({ \"kek\": 34234 })"
   ]
  },
  {
   "cell_type": "code",
   "execution_count": 11,
   "metadata": {},
   "outputs": [],
   "source": [
    "kek = [\"kek\", \"kek\"]"
   ]
  },
  {
   "cell_type": "code",
   "execution_count": 13,
   "metadata": {},
   "outputs": [
    {
     "data": {
      "text/plain": [
       "2"
      ]
     },
     "execution_count": 13,
     "metadata": {},
     "output_type": "execute_result"
    }
   ],
   "source": [
    "len(kek)"
   ]
  },
  {
   "cell_type": "code",
   "execution_count": 15,
   "metadata": {},
   "outputs": [],
   "source": [
    "kek = {\n",
    "    \"key1\": \"value1\",\n",
    "    \"key2\": \"value2\",\n",
    "    \"key3\": \"value3\"\n",
    "}"
   ]
  },
  {
   "cell_type": "code",
   "execution_count": 19,
   "metadata": {},
   "outputs": [
    {
     "name": "stdout",
     "output_type": "stream",
     "text": [
      "key1\n",
      "key2\n",
      "key3\n"
     ]
    }
   ],
   "source": [
    "for givno in kek:\n",
    "    print(givno)"
   ]
  },
  {
   "cell_type": "code",
   "execution_count": null,
   "metadata": {},
   "outputs": [],
   "source": []
  }
 ],
 "metadata": {
  "kernelspec": {
   "display_name": "Python 3.8.3 ('base')",
   "language": "python",
   "name": "python3"
  },
  "language_info": {
   "codemirror_mode": {
    "name": "ipython",
    "version": 3
   },
   "file_extension": ".py",
   "mimetype": "text/x-python",
   "name": "python",
   "nbconvert_exporter": "python",
   "pygments_lexer": "ipython3",
   "version": "3.8.3"
  },
  "orig_nbformat": 4,
  "vscode": {
   "interpreter": {
    "hash": "7b7c7b2245f84aa233e35c86f483dabad4d751346c1b04aaf192d0cd0bfc0ef9"
   }
  }
 },
 "nbformat": 4,
 "nbformat_minor": 2
}
