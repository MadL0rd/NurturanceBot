{
 "cells": [
  {
   "cell_type": "code",
   "execution_count": 4,
   "metadata": {},
   "outputs": [],
   "source": [
    "import httplib2\n",
    "from googleapiclient.discovery import build\n",
    "from oauth2client.service_account import ServiceAccountCredentials\n",
    "from google.oauth2.credentials import Credentials\n",
    "from datetime import datetime\n",
    "import json\n",
    "from pathlib import Path\n",
    "import xlsxwriter\n",
    "import json\n",
    "from pathlib import Path\n",
    "from datetime import date, timedelta"
   ]
  },
  {
   "cell_type": "code",
   "execution_count": 7,
   "metadata": {},
   "outputs": [],
   "source": [
    "import Core.GoogleSheetsService as givno"
   ]
  },
  {
   "cell_type": "code",
   "execution_count": 12,
   "metadata": {},
   "outputs": [
    {
     "name": "stdout",
     "output_type": "stream",
     "text": [
      "\u001b[1;32m[2022-11-04 13:40:18,516: DEBUG] GoogleSheetsService.py\t-> updateUniqueMessages[59] \t\u001b[0m[[], ['unknownState', 'Кажется, сейчас я тебя не понимаю...'], ['menuButtonReturnToMainMenu', 'Главное меню'], [], ['menuButtonExercises', 'Перейти к упражнениям'], ['menuButtonRandomNews', 'Я не хочу делать упражнения, просто хочу переключиться'], ['menuButtonRelax', 'Мне просто нужно отдохнуть'], ['menuButtonAdmin', 'Админ'], ['mainMenuText', 'Твое состояние сейчас определяется твоими эмоциями и мыслями.\\n\\nЗабот поможет тебе разобраться хитросплетении внутренних переживаний и успокоить их.'], [], ['adminMenuText', 'Вы в меню администратора'], ['adminMenuButtonLoadData', 'Выгрузить данные'], ['adminMenuButtonReloadData', 'Стянуть новые тексты из гугл таблицы'], [], ['randomNewsStartText', 'Сейчас расскажу тебе что-нибудь интересное'], ['randomNewsButtonNews', 'Хочу еще'], ['randomNewsAllNewsWasShown', 'Кажется, мне больше нечего тебе показать\\nЗагляни сюда позже'], [], ['exercisesStartText', 'Выбери, с чем бы ты хотел сейчас поработать.'], ['exercisesButtonThought', 'Мысль'], ['exercisesButtonEmotion', 'Эмоция'], ['exercisesEmotionStartText', 'Выбери, какую эмоцию ты сейчас чувствуешь из списка, либо напиши свой вариант'], ['exercisesThoughtStartText', 'Запиши мысль, которая тебя беспокоит'], ['exercisesEmotionEmotionsListImage', 'https://mmdona.ru/wp-content/uploads/2022/03/imgonline-com-ua-Color-filter-4EfQhtyPwbix-1024x799.jpg'], ['exercisesEmotionScaleText', 'Оцени насколько сильно она ощущается по шкале от 0️⃣ до 🔟, где 🔟 наихудшее состояние.'], ['exercisesThoughtScaleText', 'Оцени насколько сильно она беспокоит тебя по шкале от 0️⃣ до 🔟, где 🔟 наихудшее состояние.']]\n"
     ]
    }
   ],
   "source": [
    "givno.updateUniqueMessages()"
   ]
  },
  {
   "cell_type": "code",
   "execution_count": 11,
   "metadata": {},
   "outputs": [
    {
     "ename": "SyntaxError",
     "evalue": "invalid character in identifier (<ipython-input-11-efae2994d901>, line 1)",
     "output_type": "error",
     "traceback": [
      "\u001b[0;36m  File \u001b[0;32m\"<ipython-input-11-efae2994d901>\"\u001b[0;36m, line \u001b[0;32m1\u001b[0m\n\u001b[0;31m    for kek in range(0️⃣,🔟):\u001b[0m\n\u001b[0m                       ^\u001b[0m\n\u001b[0;31mSyntaxError\u001b[0m\u001b[0;31m:\u001b[0m invalid character in identifier\n"
     ]
    }
   ],
   "source": [
    "for kek in range(0️⃣,🔟):\n",
    "    print(kek)"
   ]
  },
  {
   "cell_type": "code",
   "execution_count": null,
   "metadata": {},
   "outputs": [],
   "source": []
  }
 ],
 "metadata": {
  "kernelspec": {
   "display_name": "Python 3.10.7 64-bit",
   "language": "python",
   "name": "python3"
  },
  "language_info": {
   "codemirror_mode": {
    "name": "ipython",
    "version": 3
   },
   "file_extension": ".py",
   "mimetype": "text/x-python",
   "name": "python",
   "nbconvert_exporter": "python",
   "pygments_lexer": "ipython3",
   "version": "3.10.7"
  },
  "orig_nbformat": 4,
  "vscode": {
   "interpreter": {
    "hash": "0d8f62de8d159179b6c7667a4d5d4ef6210275a6b2f6b808206464195fd50fc9"
   }
  }
 },
 "nbformat": 4,
 "nbformat_minor": 2
}
