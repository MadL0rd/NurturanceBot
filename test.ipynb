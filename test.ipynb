{
 "cells": [
  {
   "cell_type": "code",
   "execution_count": 4,
   "metadata": {},
   "outputs": [],
   "source": [
    "import httplib2\n",
    "from googleapiclient.discovery import build\n",
    "from oauth2client.service_account import ServiceAccountCredentials\n",
    "from google.oauth2.credentials import Credentials\n",
    "from datetime import datetime\n",
    "import json\n",
    "from pathlib import Path\n",
    "import xlsxwriter\n",
    "import json\n",
    "from pathlib import Path\n",
    "from datetime import date, timedelta"
   ]
  },
  {
   "cell_type": "code",
   "execution_count": 20,
   "metadata": {},
   "outputs": [],
   "source": [
    "import Core.GoogleSheetsService as givno"
   ]
  },
  {
   "cell_type": "code",
   "execution_count": 21,
   "metadata": {},
   "outputs": [
    {
     "name": "stdout",
     "output_type": "stream",
     "text": [
      "\u001b[1;32m[2022-11-04 14:29:34,347: DEBUG] GoogleSheetsService.py\t-> updateUniqueMessages[59] \t\u001b[0m[[], ['unknownState', 'Кажется, сейчас я тебя не понимаю...'], ['menuButtonReturnToMainMenu', 'Главное меню'], [], ['menuButtonExercises', 'Перейти к упражнениям'], ['menuButtonRandomNews', 'Я не хочу делать упражнения, просто хочу переключиться'], ['menuButtonRelax', 'Мне просто нужно отдохнуть'], ['menuButtonAdmin', 'Админ'], ['mainMenuText', 'Твое состояние сейчас определяется твоими эмоциями и мыслями.\\n\\nЗабот поможет тебе разобраться хитросплетении внутренних переживаний и успокоить их.'], [], ['adminMenuText', 'Вы в меню администратора'], ['adminMenuButtonLoadData', 'Выгрузить данные'], ['adminMenuButtonReloadData', 'Стянуть новые тексты из гугл таблицы'], [], ['randomNewsStartText', 'Сейчас расскажу тебе что-нибудь интересное'], ['randomNewsButtonNews', 'Хочу еще'], ['randomNewsAllNewsWasShown', 'Кажется, мне больше нечего тебе показать\\nЗагляни сюда позже'], [], ['exercisesStartText', 'Выбери, с чем бы ты хотел сейчас поработать.'], ['exercisesButtonThought', 'Мысль'], ['exercisesButtonEmotion', 'Эмоция'], ['exercisesEmotionStartText', 'Выбери, какую эмоцию ты сейчас чувствуешь из списка, либо напиши свой вариант'], ['exercisesThoughtStartText', 'Запиши мысль, которая тебя беспокоит'], ['exercisesEmotionEmotionsListImage', 'https://mmdona.ru/wp-content/uploads/2022/03/imgonline-com-ua-Color-filter-4EfQhtyPwbix-1024x799.jpg'], ['exercisesEmotionScaleText', 'Оцени насколько сильно она ощущается по шкале от 0️⃣ до 🔟, где 🔟 наихудшее состояние.'], ['exercisesThoughtScaleText', 'Оцени насколько сильно она беспокоит тебя по шкале от 0️⃣ до 🔟, где 🔟 наихудшее состояние.']]\n"
     ]
    }
   ],
   "source": [
    "givno.updateUniqueMessages()"
   ]
  },
  {
   "cell_type": "code",
   "execution_count": 30,
   "metadata": {},
   "outputs": [],
   "source": [
    "import enum\n",
    "class PageNames(enum.Enum):\n",
    "\n",
    "    uniqueMessages = \"УникальныеСообщения\"\n",
    "    onboarding = \"Онбординг\"\n",
    "    news = \"Новости\"\n",
    "    taskEmotions ='УпражненияЭмоции'\n",
    "    taskThoughts = 'УпражненияМысли'\n",
    "\n",
    "pages = PageNames\n",
    "\n",
    "\n",
    "CREDENTIALS_FILE = 'creds.json'\n",
    "\n",
    "credentials = ServiceAccountCredentials.from_json_keyfile_name(\n",
    "    CREDENTIALS_FILE,\n",
    "    ['https://www.googleapis.com/auth/spreadsheets',\n",
    "    'https://www.googleapis.com/auth/drive']\n",
    ")\n",
    "httpAuth = credentials.authorize(httplib2.Http())\n",
    "\n",
    "service = build('sheets', 'v4', http = httpAuth)\n",
    "service_drive = build('drive', 'v3', http = httpAuth)\n",
    "\n",
    "spreadsheet_id = '1ZJ6VzQOQJlZvVtJ2UNhb8Uj4El2TV8lG7wMfMwMiJaM'\n",
    "\n",
    "def getTableModifiedTime():\n",
    "    response = service_drive.files().get(fileId=spreadsheet_id,fields=\"modifiedTime\").execute()\n",
    "    modified_time_str = response['modifiedTime']\n",
    "    date = datetime.fromisoformat(modified_time_str[:-1])\n",
    "    return date\n",
    "\n",
    "def getContent(page: PageNames, range: str):\n",
    "    values = service.spreadsheets().values().get(\n",
    "        spreadsheetId=spreadsheet_id,\n",
    "        range=f'{page.value}!{range}',\n",
    "        majorDimension='ROWS'\n",
    "    ).execute()\n",
    "\n",
    "    values = values['values']\n",
    "    return values"
   ]
  },
  {
   "cell_type": "code",
   "execution_count": 31,
   "metadata": {},
   "outputs": [
    {
     "name": "stdout",
     "output_type": "stream",
     "text": [
      "Argument picture not found\n",
      "Argument audio not found\n",
      "Argument video not found\n",
      "Argument picture not found\n",
      "Argument audio not found\n",
      "Argument video not found\n",
      "Argument picture not found\n",
      "Argument audio not found\n",
      "Argument video not found\n"
     ]
    },
    {
     "data": {
      "text/plain": [
       "[{'ID': '1', 'text': 'Текст №раз'},\n",
       " {'ID': '2', 'text': 'Текст №два'},\n",
       " {'ID': '3', 'text': 'Текст №три'}]"
      ]
     },
     "execution_count": 31,
     "metadata": {},
     "output_type": "execute_result"
    }
   ],
   "source": [
    "def updaTetaskThoughts():\n",
    "\n",
    "    values = getContent(pages.taskThoughts, \"A2:E100\")\n",
    "    \n",
    "    content = []\n",
    "    for line in values:\n",
    "        exercise = {}\n",
    "        try:\n",
    "            exercise[\"ID\"] = line[0]\n",
    "        except:\n",
    "            continue\n",
    "\n",
    "        try:\n",
    "            exercise[\"text\"] = line[1]\n",
    "        except:\n",
    "            print(\"Argument text not found\")\n",
    "\n",
    "        try:\n",
    "            exercise[\"picture\"] = line[2]\n",
    "        except:\n",
    "            print(\"Argument picture not found\")\n",
    "\n",
    "        try:\n",
    "            exercise[\"audio\"] = line[3]\n",
    "        except:\n",
    "            print(\"Argument audio not found\")\n",
    "\n",
    "        try:\n",
    "            exercise[\"video\"] = line[4]\n",
    "        except:\n",
    "            print(\"Argument video not found\")\n",
    "            \n",
    "        content.append(exercise)\n",
    "    return content\n",
    "updatetaskThoughts()"
   ]
  },
  {
   "cell_type": "code",
   "execution_count": null,
   "metadata": {},
   "outputs": [],
   "source": []
  }
 ],
 "metadata": {
  "kernelspec": {
   "display_name": "Python 3.10.7 64-bit",
   "language": "python",
   "name": "python3"
  },
  "language_info": {
   "codemirror_mode": {
    "name": "ipython",
    "version": 3
   },
   "file_extension": ".py",
   "mimetype": "text/x-python",
   "name": "python",
   "nbconvert_exporter": "python",
   "pygments_lexer": "ipython3",
   "version": "3.10.7"
  },
  "orig_nbformat": 4,
  "vscode": {
   "interpreter": {
    "hash": "0d8f62de8d159179b6c7667a4d5d4ef6210275a6b2f6b808206464195fd50fc9"
   }
  }
 },
 "nbformat": 4,
 "nbformat_minor": 2
}
